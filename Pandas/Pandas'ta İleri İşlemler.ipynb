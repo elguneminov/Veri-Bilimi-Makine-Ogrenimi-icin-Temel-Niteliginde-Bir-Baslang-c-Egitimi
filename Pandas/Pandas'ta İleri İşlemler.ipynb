{
 "cells": [
  {
   "cell_type": "code",
   "execution_count": 1,
   "metadata": {},
   "outputs": [],
   "source": [
    "import pandas as pd\n",
    "import numpy as np"
   ]
  },
  {
   "cell_type": "code",
   "execution_count": 5,
   "metadata": {},
   "outputs": [
    {
     "data": {
      "text/html": [
       "<div>\n",
       "<style scoped>\n",
       "    .dataframe tbody tr th:only-of-type {\n",
       "        vertical-align: middle;\n",
       "    }\n",
       "\n",
       "    .dataframe tbody tr th {\n",
       "        vertical-align: top;\n",
       "    }\n",
       "\n",
       "    .dataframe thead th {\n",
       "        text-align: right;\n",
       "    }\n",
       "</style>\n",
       "<table border=\"1\" class=\"dataframe\">\n",
       "  <thead>\n",
       "    <tr style=\"text-align: right;\">\n",
       "      <th></th>\n",
       "      <th>FİLM</th>\n",
       "      <th>SENARYO</th>\n",
       "      <th>OYUNCU</th>\n",
       "      <th>YARDIMCI O.</th>\n",
       "      <th>KURGU</th>\n",
       "      <th>GÖRSEL</th>\n",
       "      <th>KOSTÜM</th>\n",
       "      <th>MAKYAJ</th>\n",
       "      <th>MÜZİK</th>\n",
       "      <th>YÖNETMEN</th>\n",
       "      <th>EN İYİ FİLM</th>\n",
       "      <th>ADAYLIK</th>\n",
       "      <th>KAZANDI</th>\n",
       "      <th>PUAN</th>\n",
       "    </tr>\n",
       "  </thead>\n",
       "  <tbody>\n",
       "    <tr>\n",
       "      <th>0</th>\n",
       "      <td>SUSPIRIA (2018)</td>\n",
       "      <td>K</td>\n",
       "      <td>NaN</td>\n",
       "      <td>K</td>\n",
       "      <td>A</td>\n",
       "      <td>K</td>\n",
       "      <td>A</td>\n",
       "      <td>K</td>\n",
       "      <td>K</td>\n",
       "      <td>A</td>\n",
       "      <td>A</td>\n",
       "      <td>9</td>\n",
       "      <td>5</td>\n",
       "      <td>8.0</td>\n",
       "    </tr>\n",
       "    <tr>\n",
       "      <th>1</th>\n",
       "      <td>TAXI DRIVER</td>\n",
       "      <td>A</td>\n",
       "      <td>K</td>\n",
       "      <td>NaN</td>\n",
       "      <td>A</td>\n",
       "      <td>A</td>\n",
       "      <td>NaN</td>\n",
       "      <td>NaN</td>\n",
       "      <td>NaN</td>\n",
       "      <td>A</td>\n",
       "      <td>A</td>\n",
       "      <td>6</td>\n",
       "      <td>1</td>\n",
       "      <td>7.5</td>\n",
       "    </tr>\n",
       "    <tr>\n",
       "      <th>2</th>\n",
       "      <td>THE GENTLEMEN</td>\n",
       "      <td>NaN</td>\n",
       "      <td>NaN</td>\n",
       "      <td>NaN</td>\n",
       "      <td>A</td>\n",
       "      <td>NaN</td>\n",
       "      <td>A</td>\n",
       "      <td>NaN</td>\n",
       "      <td>NaN</td>\n",
       "      <td>NaN</td>\n",
       "      <td>NaN</td>\n",
       "      <td>2</td>\n",
       "      <td>0</td>\n",
       "      <td>7.0</td>\n",
       "    </tr>\n",
       "    <tr>\n",
       "      <th>3</th>\n",
       "      <td>PARASITE</td>\n",
       "      <td>K</td>\n",
       "      <td>A</td>\n",
       "      <td>A</td>\n",
       "      <td>K</td>\n",
       "      <td>K</td>\n",
       "      <td>A</td>\n",
       "      <td>A</td>\n",
       "      <td>A</td>\n",
       "      <td>K</td>\n",
       "      <td>K</td>\n",
       "      <td>10</td>\n",
       "      <td>5</td>\n",
       "      <td>8.5</td>\n",
       "    </tr>\n",
       "    <tr>\n",
       "      <th>4</th>\n",
       "      <td>KNIVES OUT</td>\n",
       "      <td>A</td>\n",
       "      <td>A</td>\n",
       "      <td>NaN</td>\n",
       "      <td>A</td>\n",
       "      <td>A</td>\n",
       "      <td>K</td>\n",
       "      <td>A</td>\n",
       "      <td>NaN</td>\n",
       "      <td>NaN</td>\n",
       "      <td>A</td>\n",
       "      <td>7</td>\n",
       "      <td>1</td>\n",
       "      <td>8.0</td>\n",
       "    </tr>\n",
       "  </tbody>\n",
       "</table>\n",
       "</div>"
      ],
      "text/plain": [
       "              FİLM SENARYO OYUNCU YARDIMCI O. KURGU GÖRSEL KOSTÜM MAKYAJ  \\\n",
       "0  SUSPIRIA (2018)       K    NaN           K     A      K      A      K   \n",
       "1      TAXI DRIVER       A      K         NaN     A      A    NaN    NaN   \n",
       "2    THE GENTLEMEN     NaN    NaN         NaN     A    NaN      A    NaN   \n",
       "3         PARASITE       K      A           A     K      K      A      A   \n",
       "4       KNIVES OUT       A      A         NaN     A      A      K      A   \n",
       "\n",
       "  MÜZİK YÖNETMEN EN İYİ FİLM  ADAYLIK  KAZANDI  PUAN  \n",
       "0     K        A           A        9        5   8.0  \n",
       "1   NaN        A           A        6        1   7.5  \n",
       "2   NaN      NaN         NaN        2        0   7.0  \n",
       "3     A        K           K       10        5   8.5  \n",
       "4   NaN      NaN           A        7        1   8.0  "
      ]
     },
     "execution_count": 5,
     "metadata": {},
     "output_type": "execute_result"
    }
   ],
   "source": [
    "data = pd.read_excel(\"filmler.xlsx\")\n",
    "data.head()"
   ]
  },
  {
   "cell_type": "code",
   "execution_count": 6,
   "metadata": {},
   "outputs": [
    {
     "data": {
      "text/plain": [
       "array([8. , 7.5, 7. , 8.5, 6. , 6.5, 5. , 9. , 8.8])"
      ]
     },
     "execution_count": 6,
     "metadata": {},
     "output_type": "execute_result"
    }
   ],
   "source": [
    "# Tekrar eden puanları görmek istemiyorz!\n",
    "\n",
    "data[\"PUAN\"].unique()"
   ]
  },
  {
   "cell_type": "code",
   "execution_count": 7,
   "metadata": {},
   "outputs": [
    {
     "data": {
      "text/plain": [
       "7.5    18\n",
       "7.0    17\n",
       "8.0     5\n",
       "6.5     4\n",
       "8.5     4\n",
       "6.0     3\n",
       "8.8     1\n",
       "9.0     1\n",
       "5.0     1\n",
       "Name: PUAN, dtype: int64"
      ]
     },
     "execution_count": 7,
     "metadata": {},
     "output_type": "execute_result"
    }
   ],
   "source": [
    "# Hangi puan kaç defa verilmiş?\n",
    "\n",
    "data[\"PUAN\"].value_counts()"
   ]
  },
  {
   "cell_type": "code",
   "execution_count": 8,
   "metadata": {},
   "outputs": [],
   "source": [
    "def besli_puan_sistemi(puan):\n",
    "    return puan/2"
   ]
  },
  {
   "cell_type": "code",
   "execution_count": 9,
   "metadata": {},
   "outputs": [
    {
     "data": {
      "text/plain": [
       "0    8.0\n",
       "1    7.5\n",
       "2    7.0\n",
       "3    8.5\n",
       "4    8.0\n",
       "Name: PUAN, dtype: float64"
      ]
     },
     "execution_count": 9,
     "metadata": {},
     "output_type": "execute_result"
    }
   ],
   "source": [
    "data[\"PUAN\"].head()"
   ]
  },
  {
   "cell_type": "code",
   "execution_count": 10,
   "metadata": {},
   "outputs": [
    {
     "data": {
      "text/plain": [
       "0     4.00\n",
       "1     3.75\n",
       "2     3.50\n",
       "3     4.25\n",
       "4     4.00\n",
       "5     3.75\n",
       "6     3.00\n",
       "7     3.75\n",
       "8     3.50\n",
       "9     3.75\n",
       "10    3.75\n",
       "11    3.25\n",
       "12    3.50\n",
       "13    3.75\n",
       "14    3.50\n",
       "15    3.75\n",
       "16    4.25\n",
       "17    2.50\n",
       "18    3.75\n",
       "19    4.25\n",
       "20    4.25\n",
       "21    3.75\n",
       "22    3.50\n",
       "23    3.50\n",
       "24    3.50\n",
       "25    3.50\n",
       "26    3.50\n",
       "27    3.50\n",
       "28    3.25\n",
       "29    3.75\n",
       "30    3.00\n",
       "31    3.75\n",
       "32    3.50\n",
       "33    3.00\n",
       "34    3.25\n",
       "35    4.00\n",
       "36    4.50\n",
       "37    4.40\n",
       "38    3.75\n",
       "39    3.75\n",
       "40    3.75\n",
       "41    3.75\n",
       "42    3.50\n",
       "43    3.50\n",
       "44    3.50\n",
       "45    3.25\n",
       "46    3.50\n",
       "47    3.50\n",
       "48    4.00\n",
       "49    3.75\n",
       "50    3.75\n",
       "51    3.75\n",
       "52    4.00\n",
       "53    3.50\n",
       "Name: PUAN, dtype: float64"
      ]
     },
     "execution_count": 10,
     "metadata": {},
     "output_type": "execute_result"
    }
   ],
   "source": [
    "data[\"PUAN\"].apply(besli_puan_sistemi)"
   ]
  },
  {
   "cell_type": "code",
   "execution_count": null,
   "metadata": {},
   "outputs": [],
   "source": []
  }
 ],
 "metadata": {
  "kernelspec": {
   "display_name": "Python 3",
   "language": "python",
   "name": "python3"
  },
  "language_info": {
   "codemirror_mode": {
    "name": "ipython",
    "version": 3
   },
   "file_extension": ".py",
   "mimetype": "text/x-python",
   "name": "python",
   "nbconvert_exporter": "python",
   "pygments_lexer": "ipython3",
   "version": "3.8.5"
  }
 },
 "nbformat": 4,
 "nbformat_minor": 4
}
