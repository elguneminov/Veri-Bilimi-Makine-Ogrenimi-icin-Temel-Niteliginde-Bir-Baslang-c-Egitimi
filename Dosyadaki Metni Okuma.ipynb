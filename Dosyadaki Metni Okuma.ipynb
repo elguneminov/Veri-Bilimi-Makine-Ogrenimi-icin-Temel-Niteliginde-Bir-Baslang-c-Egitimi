{
 "cells": [
  {
   "cell_type": "code",
   "execution_count": 4,
   "metadata": {},
   "outputs": [
    {
     "name": "stdout",
     "output_type": "stream",
     "text": [
      "Python, nesne yÃ¶nelimli, yorumlamalÄ±, birimsel (modÃ¼ler) ve etkileÅŸimli yÃ¼ksek seviyeli bir programlama dilidir.[4]\n",
      "\n",
      "Girintilere dayalÄ± basit sÃ¶zdizimi, dilin Ã¶ÄŸrenilmesini ve akÄ±lda kalmasÄ±nÄ± kolaylaÅŸtÄ±rÄ±r. Bu da ona sÃ¶z diziminin ayrÄ±ntÄ±larÄ± ile vakit yitirmeden programlama yapÄ±lmaya baÅŸlanabilen bir dil olma Ã¶zelliÄŸi kazandÄ±rÄ±r.\n",
      "\n",
      "ModÃ¼ler yapÄ±sÄ±, sÄ±nÄ±f dizgesini (sistem) ve her tÃ¼rlÃ¼ veri alanÄ± giriÅŸini destekler. Hemen hemen her tÃ¼rlÃ¼ platformda Ã§alÄ±ÅŸabilir. (Unix, Linux, Mac, Windows, Amiga, Symbian). Python ile sistem programlama, kullanÄ±cÄ± arabirimi programlama, aÄŸ programlama, web programlama, uygulama ve veritabanÄ± yazÄ±lÄ±mÄ± programlama gibi birÃ§ok alanda yazÄ±lÄ±m geliÅŸtirebilirsiniz. BÃ¼yÃ¼k yazÄ±lÄ±mlarÄ±n hÄ±zlÄ± bir ÅŸekilde prototiplerinin Ã¼retilmesi ve denenmesi gerektiÄŸi durumlarda da C ya da C++ gibi dillere tercih edilir.\n",
      "\n",
      "Python 1980'lerin sonunda ABC programlama diline alternatif olarak tasarlanmÄ±ÅŸtÄ±. Python 2.0, ilk kez 2000 yÄ±lÄ±nda yayÄ±nlandÄ±. 2008'de yayÄ±nlanan Python 3.0, dilin Ã¶nceki versiyonuyla tam uyumlu deÄŸildir ve Python 2.x'te yazÄ±lan kodlarÄ±n Python 3.x'te Ã§alÄ±ÅŸmasÄ± iÃ§in deÄŸiÅŸtirilmesi gerekmektedir. Python 2 versiyonun resmi geliÅŸtirilme sÃ¼reci, dilin son sÃ¼rÃ¼mÃ¼ olan Python 2.7.x serisi versiyonlarÄ±n ardÄ±ndan 1 Ocak 2020 itibarÄ±yla resmi olarak sona erdi.[5][6] Python 2.x geliÅŸtirilme desteÄŸinin sona ermesinin ardÄ±ndan, Python dilinin 3.6.x ve sonraki sÃ¼rÃ¼mlerinin geliÅŸtirilmesi devam etmektedir.[7]\n"
     ]
    }
   ],
   "source": [
    "oku = open(\"viki python.txt\").read()\n",
    "print(oku)"
   ]
  },
  {
   "cell_type": "code",
   "execution_count": 5,
   "metadata": {},
   "outputs": [
    {
     "name": "stdout",
     "output_type": "stream",
     "text": [
      "1537\n"
     ]
    }
   ],
   "source": [
    "oku = open(\"viki python.txt\").read()\n",
    "print(len(oku))"
   ]
  },
  {
   "cell_type": "code",
   "execution_count": null,
   "metadata": {},
   "outputs": [],
   "source": []
  }
 ],
 "metadata": {
  "kernelspec": {
   "display_name": "Python 3",
   "language": "python",
   "name": "python3"
  },
  "language_info": {
   "codemirror_mode": {
    "name": "ipython",
    "version": 3
   },
   "file_extension": ".py",
   "mimetype": "text/x-python",
   "name": "python",
   "nbconvert_exporter": "python",
   "pygments_lexer": "ipython3",
   "version": "3.8.5"
  }
 },
 "nbformat": 4,
 "nbformat_minor": 4
}
