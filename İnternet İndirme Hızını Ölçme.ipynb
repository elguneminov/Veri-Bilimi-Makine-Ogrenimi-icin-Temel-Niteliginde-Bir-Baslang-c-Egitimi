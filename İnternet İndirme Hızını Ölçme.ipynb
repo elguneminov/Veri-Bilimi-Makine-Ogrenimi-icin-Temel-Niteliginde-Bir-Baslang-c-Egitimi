{
 "cells": [
  {
   "cell_type": "code",
   "execution_count": 1,
   "metadata": {},
   "outputs": [],
   "source": [
    "import speedtest"
   ]
  },
  {
   "cell_type": "code",
   "execution_count": 4,
   "metadata": {},
   "outputs": [
    {
     "name": "stdout",
     "output_type": "stream",
     "text": [
      "İndirme Hızı = 17 \n",
      "Gönderme Hızı = 5 \n"
     ]
    }
   ],
   "source": [
    "test = speedtest.Speedtest()\n",
    "indirme = test.download()\n",
    "gönderme = test.upload()\n",
    "indirme = indirme/1000000\n",
    "gönderme = gönderme/1000000\n",
    "print(\"İndirme Hızı = %d \" %((indirme)))\n",
    "print(\"Gönderme Hızı = %d \" %((gönderme)))"
   ]
  },
  {
   "cell_type": "code",
   "execution_count": null,
   "metadata": {},
   "outputs": [],
   "source": []
  }
 ],
 "metadata": {
  "kernelspec": {
   "display_name": "Python 3",
   "language": "python",
   "name": "python3"
  },
  "language_info": {
   "codemirror_mode": {
    "name": "ipython",
    "version": 3
   },
   "file_extension": ".py",
   "mimetype": "text/x-python",
   "name": "python",
   "nbconvert_exporter": "python",
   "pygments_lexer": "ipython3",
   "version": "3.8.5"
  }
 },
 "nbformat": 4,
 "nbformat_minor": 4
}
